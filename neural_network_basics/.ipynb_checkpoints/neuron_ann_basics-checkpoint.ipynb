{
 "cells": [
  {
   "cell_type": "markdown",
   "id": "1f373551",
   "metadata": {},
   "source": [
    "### The Brain\n",
    "Since we are studying machine and deep learning as a part of artificial intelligence, we need to understand the building block of real intelligence\n",
    "\n",
    "<img src=\"brain.png\" width=50% height=50%/>\n",
    "\n",
    "Following are some properties of the brain\n",
    "* It is a wonderful pattern matching machine\n",
    "* The fundamental unit of the brain is a neuron\n",
    "* Different functions are separated into different regions in the brain\n",
    "* The brain is extremely plastic\n",
    "\n",
    "So why are we studying it\n",
    "* Pattern matching is essential to understand historical trends in data to predict the future\n",
    "* Compute is expensive, we cannot run computers continuously, so knowing when to fire is essential. Fun Fact: A typical laptop uses 65-85w of electricity, guess how much our brain uses?\n",
    "* We specialize machine learning tasks, as models, each model spcializes as a single function\n",
    "* Ok, here we have no solution, the closest one we have is transfer learning"
   ]
  },
  {
   "cell_type": "markdown",
   "id": "56c2e87f",
   "metadata": {},
   "source": [
    "### The Neuron\n",
    "**The Neuron is the fundamental unit**\n",
    "\n",
    "**Function**\n",
    "- Electrical signals pass through the neuron\n",
    "- Chemical transmitters are between neurons\n",
    "- The electrical signal is only generated when the neuron senses a feature which it is specialized in\n",
    "- This function is called as action potential, where the electric voltage is generated only when a treshold is crossed\n",
    "\n",
    "<img src=\"neuron.jpg\" width=50% height=50%/>"
   ]
  },
  {
   "cell_type": "markdown",
   "id": "a5b0c669",
   "metadata": {},
   "source": [
    "#### Let us understand how the brain decodes a visual signal from the eye\n",
    "This is how we were inspired to build a neuron in neural networks\n",
    "\n",
    "<img src=\"visual_cortex.png\" />\n",
    "\n",
    "This region of the brain is called the **Visual Cortex**\n",
    "It is divided in 6 regions\n",
    "* V1 Area\n",
    "    - Gets input signal directly from the eye, each patch(think pixel) from the eye is mapped invertedly to this area\n",
    "    - Function: Edge Dectection\n",
    "* V2 Area\n",
    "    - Gets input from V1\n",
    "    - Function: Orientation, Colour and Spatial Frequency\n",
    "* V3 Area\n",
    "    - Gets input from V2\n",
    "    - Function: Detect Gross Motion\n",
    "* V4 Area\n",
    "    - Gets input from V2 as well as V1\n",
    "    - Function: Like V2 it focuses on Colour and Orientation, but has attention to simple geometric shapes\n",
    "* V5 Area\n",
    "    - Gets input from V2\n",
    "    - Function: Tuned for motion bet specializes in Speed and Direction\n",
    "* V6 Area\n",
    "    - Gets input from V5 and V1\n",
    "    - Tracks movement of self"
   ]
  },
  {
   "cell_type": "markdown",
   "id": "f1919083",
   "metadata": {},
   "source": [
    "## Artificial Neural Networks\n",
    "\n",
    "\n",
    "<img src=\"single_neuron_function.svg\" width=50% height=50% />\n",
    "\n",
    "**An artificial neuron is a matchematical function that gets activated on the right input producing some output**\n",
    "\n",
    "**On the sucess of the function a potential is generated for an output, just like the brain neuron**"
   ]
  },
  {
   "cell_type": "markdown",
   "id": "c8d71e3b",
   "metadata": {},
   "source": [
    "<img src=\"ann01.png\" width=50% height=50% />"
   ]
  },
  {
   "cell_type": "markdown",
   "id": "a96d894c",
   "metadata": {},
   "source": [
    "### Bias\n",
    "\n",
    "**Consider a function with f(x1,x2) = x1 + x2**\n",
    "\n",
    "x1 and x2 are inputs and this function returns an output.\n",
    "**Now consider if the output is greater than 30 then it pushes the output\n",
    "else\n",
    "there is no output\n",
    "**\n",
    "\n",
    "**30 can be called as the Threshold**\n",
    "\n",
    "This can be represented as \n",
    "\n",
    "x1 + x2 > 30 #then fire\n",
    "\n",
    "x1 + x2 < 30 #don't fire\n",
    "\n",
    "Which can also be written as \n",
    "x1 + x2 - Threshold > 0\n",
    "\n",
    "x1 + x2 - Threshold < 0\n",
    "\n",
    "**The -Threshold term is called Bias**"
   ]
  },
  {
   "cell_type": "markdown",
   "id": "1d9b1d72",
   "metadata": {},
   "source": [
    "<img src=\"ann02.png\" width=50% height=50% />"
   ]
  },
  {
   "cell_type": "markdown",
   "id": "b6dcd1b8",
   "metadata": {},
   "source": [
    "### Weights\n",
    "All things are not given the same weight, imagine you are deciding where to eat\n",
    "The factors which affect the decision are\n",
    "\n",
    "a. What is the preference of your friend\n",
    "b. What are some of the new places in the city?\n",
    "c. What is the nearest one, where you can reach without much hassle?\n",
    "\n",
    "You can give the following importance to the points\n",
    "a. 50%\n",
    "b. 30%\n",
    "c. 20%\n"
   ]
  },
  {
   "cell_type": "markdown",
   "id": "047fa23d",
   "metadata": {},
   "source": [
    "The entire output can be represented as a math equation which is \n",
    "\n",
    "\n",
    "$$y = \\left( \\sum_{i=1}^n w_i x_i \\right) + bias$$\n",
    "\n",
    "More realistically, if both the weights, bias and inputs are matrices then it is written as\n",
    "\n",
    "$$y = w^T x + bias$$\n"
   ]
  },
  {
   "cell_type": "markdown",
   "id": "d90d5393",
   "metadata": {},
   "source": [
    "### Activation Function\n",
    "Consider that your dataset follows a function\n",
    "y = f(x) = 4x + 3\n",
    "\n",
    "Then some of the values could look like\n",
    "\n",
    "| x | y |\n",
    "| :-: | :-: |\n",
    "| 1 | 7 |\n",
    "| 2 | 11 |\n",
    "| 3 | 15 |\n",
    "| 4 | 19 |\n",
    "| 5 | 23 |\n",
    "| 6 | 27 |\n",
    "| 7 | 31 |\n",
    "| 8 | 35 |\n",
    "| 9 | 37 |\n",
    "| 10 | 43 |\n",
    "\n",
    "If you plot the values"
   ]
  },
  {
   "cell_type": "markdown",
   "id": "d7e62fbb",
   "metadata": {},
   "source": [
    "### Cost Function, Loss Function, Error Function"
   ]
  },
  {
   "cell_type": "code",
   "execution_count": 5,
   "id": "477e930d",
   "metadata": {},
   "outputs": [
    {
     "data": {
      "text/plain": [
       "[<matplotlib.lines.Line2D at 0x7f4a8d0c2520>]"
      ]
     },
     "execution_count": 5,
     "metadata": {},
     "output_type": "execute_result"
    },
    {
     "data": {
      "image/png": "[encoded data removed]",
      "text/plain": [
       "<Figure size 640x480 with 1 Axes>"
      ]
     },
     "metadata": {},
     "output_type": "display_data"
    }
   ],
   "source": [
    "import numpy as np\n",
    "import matplotlib.pyplot as plt\n",
    "%matplotlib inline\n",
    "x = np.arange(1,10,1)\n",
    "def f(x):\n",
    "    return 4*x + 3\n",
    "\n",
    "y = f(x)\n",
    "plt.plot(x,y,'-bo')"
   ]
  },
  {
   "cell_type": "markdown",
   "id": "5d940c42",
   "metadata": {},
   "source": [
    "**So what you see is a linear line and association**\n",
    "**Let us see another example of this consider an AND, OR, NOT truth tables**\n",
    "<img src=\"and.png\" width=40% height=40% />\n",
    "<img src=\"or.png\" width=40% height=40% />\n",
    "<img src=\"not.png\" width=40% height=40% />\n",
    "\n",
    "\n",
    "If we consider the equation as describe above\n",
    "**x1 + x2 > bias or x1 + x2 < bias**\n",
    "Here x1 is 1 and x2 can be 0\n",
    "\n",
    "#### A very clear linear separation can be seen, hence the neuron just needs to learn the linear equation of \n",
    "#### x1+ x2 >< bias"
   ]
  },
  {
   "cell_type": "markdown",
   "id": "7a76a698",
   "metadata": {},
   "source": [
    "\n",
    "**But what if we look at the XOR function**\n",
    "<img src=\"xor.png\" width=40% height=40% />\n",
    "\n",
    "There is no discernable way to draw a line, the only way is to draw a curve\n",
    "A curve which separates values. \n",
    "\n",
    "Does a curve represent a straight line equation, well no"
   ]
  },
  {
   "cell_type": "markdown",
   "id": "cc8c6f61",
   "metadata": {},
   "source": [
    "**So how does the neuron learn a curve function**"
   ]
  },
  {
   "cell_type": "markdown",
   "id": "cd4f91dc",
   "metadata": {},
   "source": [
    "### Sigmoid Function\n",
    "A classic approach on "
   ]
  },
  {
   "cell_type": "markdown",
   "id": "eee0ac9c",
   "metadata": {},
   "source": [
    "### Gradient Based Descent Optimization"
   ]
  },
  {
   "cell_type": "markdown",
   "id": "ad89418b",
   "metadata": {},
   "source": [
    "### Learning Algorithms(Goodfellow-Pg.96)"
   ]
  },
  {
   "cell_type": "markdown",
   "id": "45bea141",
   "metadata": {},
   "source": [
    "### Linear Regression(Goodfellow-Pg.104)"
   ]
  },
  {
   "cell_type": "code",
   "execution_count": null,
   "id": "1ebdd42f",
   "metadata": {},
   "outputs": [],
   "source": []
  }
 ],
 "metadata": {
  "kernelspec": {
   "display_name": "Python 3 (ipykernel)",
   "language": "python",
   "name": "python3"
  },
  "language_info": {
   "codemirror_mode": {
    "name": "ipython",
    "version": 3
   },
   "file_extension": ".py",
   "mimetype": "text/x-python",
   "name": "python",
   "nbconvert_exporter": "python",
   "pygments_lexer": "ipython3",
   "version": "3.9.13"
  }
 },
 "nbformat": 4,
 "nbformat_minor": 5
}
