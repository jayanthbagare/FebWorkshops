{
 "cells": [
  {
   "cell_type": "markdown",
   "id": "6cd80e41",
   "metadata": {},
   "source": [
    "### The Brain\n",
    "Since we are studying machine and deep learning as a part of artificial intelligence, we need to understand the building block of real intelligence\n",
    "\n",
    "<img src=\"brain.png\" width=50% height=50%/>\n",
    "\n",
    "Following are some properties of the brain\n",
    "* It is a wonderful pattern matching machine\n",
    "* The fundamental unit of the brain is a neuron\n",
    "* Different functions are separated into different regions in the brain\n",
    "* The brain is extremely plastic\n",
    "\n",
    "So why are we studying it\n",
    "* Pattern matching is essential to understand historical trends in data to predict the future\n",
    "* Compute is expensive, we cannot run computers continuously, so knowing when to fire is essential. Fun Fact: A typical laptop uses 65-85w of electricity, guess how much our brain uses?\n",
    "* We specialize machine learning tasks, as models, each model spcializes as a single function\n",
    "* Ok, here we have no solution, the closest one we have is transfer learning"
   ]
  },
  {
   "cell_type": "markdown",
   "id": "2428837f",
   "metadata": {},
   "source": [
    "#### Let us understand how the brain decodes a visual signal from the eye\n",
    "This is how we were inspired to build a neuron in neural networks\n",
    "\n",
    "<img src=\"visual_cortex.png\" />\n",
    "\n",
    "This region of the brain is called the **Visual Cortex**\n",
    "It is divided in 6 regions\n",
    "* V1 Area\n",
    "    - Gets input signal directly from the eye, each patch(think pixel) from the eye is mapped invertedly to this area\n",
    "    - Function: Edge Dectection\n",
    "* V2 Area\n",
    "    - Gets input from V1\n",
    "    - Function: Orientation, Colour and Spatial Frequency\n",
    "* V3 Area\n",
    "    - Gets input from V2\n",
    "    - Function: Detect Gross Motion\n",
    "* V4 Area\n",
    "    - Gets input from V2 as well as V1\n",
    "    - Function: Like V2 it focuses on Colour and Orientation, but has attention to simple geometric shapes\n",
    "* V5 Area\n",
    "    - Gets input from V2\n",
    "    - Function: Tuned for motion bet specializes in Speed and Direction\n",
    "* V6 Area\n",
    "    - Gets input from V5 and V1\n",
    "    - Tracks movement of self"
   ]
  },
  {
   "cell_type": "markdown",
   "id": "9353e9c2",
   "metadata": {},
   "source": [
    "## Artificial Neural Networks\n",
    "So far we have seen the math operations, but where and how we define the math operations?\n",
    "\n",
    "we first need to define a neuron\n",
    "\n",
    "<img src=\"single_neuron_function.svg\" />\n",
    "\n",
    "**A neuron is a matchematical function that gets activated on the right input producing some output**"
   ]
  },
  {
   "cell_type": "code",
   "execution_count": null,
   "id": "d2e1090b",
   "metadata": {},
   "outputs": [],
   "source": []
  }
 ],
 "metadata": {
  "kernelspec": {
   "display_name": "Python 3 (ipykernel)",
   "language": "python",
   "name": "python3"
  },
  "language_info": {
   "codemirror_mode": {
    "name": "ipython",
    "version": 3
   },
   "file_extension": ".py",
   "mimetype": "text/x-python",
   "name": "python",
   "nbconvert_exporter": "python",
   "pygments_lexer": "ipython3",
   "version": "3.9.13"
  }
 },
 "nbformat": 4,
 "nbformat_minor": 5
}
