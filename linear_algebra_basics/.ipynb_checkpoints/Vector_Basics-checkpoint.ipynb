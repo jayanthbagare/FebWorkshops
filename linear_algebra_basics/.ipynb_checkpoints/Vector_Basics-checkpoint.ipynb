{
 "cells": [
  {
   "cell_type": "markdown",
   "id": "1c22d47d",
   "metadata": {},
   "source": [
    "**Assume the following table**\n",
    "\n",
    "| Rope Size | Price |\n",
    "| :---: | :---: |\n",
    "| 8 | 130 |\n",
    "| 11 | 200 |"
   ]
  },
  {
   "cell_type": "markdown",
   "id": "9e0c533c",
   "metadata": {},
   "source": [
    "Scale the data down \n",
    "\n",
    "- Consider max rope size is 20, hence scale it by 8/20 and 11/20 => 0.4,0.55\n",
    "- Consider max price is 500, hence scale it by 130/500,200/500 => 0.26,0.4"
   ]
  },
  {
   "cell_type": "markdown",
   "id": "78fc384c",
   "metadata": {},
   "source": [
    "By RMSE approach\n",
    "$$\n",
    "\\sqrt{RopeSize^2+Price^2/2}\n",
    "$$"
   ]
  },
  {
   "cell_type": "markdown",
   "id": "ca52e8f1",
   "metadata": {},
   "source": [
    "Calculating the same we get \n",
    "$$\n",
    "\\sqrt{0.4^2+0.55^2/2}\n",
    "$$\n",
    "Which is **0.48**\n",
    "\n",
    "### So the similarity is 1 - 0.48 which is 0.519"
   ]
  },
  {
   "cell_type": "code",
   "execution_count": 1,
   "id": "613f4545",
   "metadata": {},
   "outputs": [],
   "source": [
    "import numpy as np\n",
    "import pandas as pd\n",
    "import matplotlib.pyplot as plt"
   ]
  },
  {
   "cell_type": "code",
   "execution_count": 2,
   "id": "0b7ddde3",
   "metadata": {},
   "outputs": [],
   "source": [
    "xorigin = [0,0]\n",
    "yorigin = [0,0]\n",
    "xdir = [0.4,0.26]\n",
    "ydir = [0.55,0.4]\n",
    "v1 = [xdir[0],ydir[0]]\n",
    "v2 = [xdir[1],ydir[1]]"
   ]
  },
  {
   "cell_type": "code",
   "execution_count": 3,
   "id": "8a9c6f7b",
   "metadata": {},
   "outputs": [
    {
     "data": {
      "image/png": "[encoded data removed]",
      "text/plain": [
       "<Figure size 640x480 with 1 Axes>"
      ]
     },
     "metadata": {},
     "output_type": "display_data"
    }
   ],
   "source": [
    "plt.xlim([0,10])\n",
    "plt.ylim([0,10])\n",
    "\n",
    "plt.quiver(xorigin,yorigin,xdir,ydir,scale=2,color=['red','green'])\n",
    "plt.grid(which='both')\n",
    "plt.show()"
   ]
  },
  {
   "cell_type": "markdown",
   "id": "b30ac293",
   "metadata": {},
   "source": [
    "### Cosine Similarity\n",
    "Cosine similarity is the similarity between 2 vectors and is defined as \n",
    "$$\n",
    "cos(\\theta) = \\frac{\\textbf{A}.\\textbf{B}} {||\\textbf{A}||||\\textbf{B}||}\n",
    "$$"
   ]
  },
  {
   "cell_type": "code",
   "execution_count": 4,
   "id": "92c7425b",
   "metadata": {},
   "outputs": [],
   "source": [
    "from numpy import (array, dot, arccos, clip)\n",
    "from numpy.linalg import norm"
   ]
  },
  {
   "cell_type": "code",
   "execution_count": 5,
   "id": "03403403",
   "metadata": {},
   "outputs": [
    {
     "data": {
      "text/plain": [
       "0.9986263305388103"
      ]
     },
     "execution_count": 5,
     "metadata": {},
     "output_type": "execute_result"
    }
   ],
   "source": [
    "c = dot(v1,v2)/norm(v1)/norm(v2)\n",
    "c\n",
    "#As c value gets close to 1, it shows the 2 vectors are similar"
   ]
  },
  {
   "cell_type": "markdown",
   "id": "961fc77d",
   "metadata": {},
   "source": [
    "### So what does this tell us, the vector similarity is more valid as it considers the relationship between 2 vectors than just individual values"
   ]
  },
  {
   "cell_type": "code",
   "execution_count": null,
   "id": "31ef41a1",
   "metadata": {},
   "outputs": [],
   "source": []
  }
 ],
 "metadata": {
  "kernelspec": {
   "display_name": "Python 3 (ipykernel)",
   "language": "python",
   "name": "python3"
  },
  "language_info": {
   "codemirror_mode": {
    "name": "ipython",
    "version": 3
   },
   "file_extension": ".py",
   "mimetype": "text/x-python",
   "name": "python",
   "nbconvert_exporter": "python",
   "pygments_lexer": "ipython3",
   "version": "3.9.13"
  }
 },
 "nbformat": 4,
 "nbformat_minor": 5
}
